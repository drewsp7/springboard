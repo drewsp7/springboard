{
 "cells": [
  {
   "cell_type": "markdown",
   "metadata": {},
   "source": [
    "# Capstone Milestone Report: Submission\n",
    "Create a short document (1-2 pages) in your github describing the data wrangling steps that you undertook to clean your capstone project data set. What kind of cleaning steps did you perform? How did you deal with missing values, if any? Were there outliers, and how did you decide to handle them? This document will eventually become part of your milestone report.\n",
    "\n",
    "### Richmond, VA housing Prices - What are we trying to find out?\n",
    "* What neighborhood is the cheapest? \n",
    "* Are older homes cheaper and of smaller size? \n",
    "* Is there one Grantor (seller) that is most active? Conversely, a Grantee (buyer) that's active?\n",
    "* What years seems to be the busiest?\n",
    "* Is there a neighborhood that is selling fast/has the most number of sales?"
   ]
  },
  {
   "cell_type": "code",
   "execution_count": null,
   "metadata": {
    "collapsed": true
   },
   "outputs": [],
   "source": [
    "import pandas as pd"
   ]
  },
  {
   "cell_type": "code",
   "execution_count": 3,
   "metadata": {
    "collapsed": false
   },
   "outputs": [],
   "source": [
    "f = pd.read_excel('RichmondSalesData_2014-2017.xlsx')"
   ]
  },
  {
   "cell_type": "code",
   "execution_count": 8,
   "metadata": {
    "collapsed": false
   },
   "outputs": [
    {
     "data": {
      "text/html": [
       "<div>\n",
       "<table border=\"1\" class=\"dataframe\">\n",
       "  <thead>\n",
       "    <tr style=\"text-align: right;\">\n",
       "      <th></th>\n",
       "      <th>Parcel_ID</th>\n",
       "      <th>Card</th>\n",
       "      <th>Class_desc</th>\n",
       "      <th>NBHDno</th>\n",
       "      <th>NBHDname</th>\n",
       "      <th>district_number</th>\n",
       "      <th>Prop_stree</th>\n",
       "      <th>Transfer_date</th>\n",
       "      <th>Consideration</th>\n",
       "      <th>TransferComment</th>\n",
       "      <th>Deed_book</th>\n",
       "      <th>Deed_page</th>\n",
       "      <th>Grantor</th>\n",
       "      <th>Grantee</th>\n",
       "      <th>Story</th>\n",
       "      <th>YrBuilt</th>\n",
       "      <th>FinSize</th>\n",
       "    </tr>\n",
       "  </thead>\n",
       "  <tbody>\n",
       "    <tr>\n",
       "      <th>0</th>\n",
       "      <td>C0010491075</td>\n",
       "      <td>R02</td>\n",
       "      <td>120 Two Story</td>\n",
       "      <td>142.0</td>\n",
       "      <td>Twin Valley/Old Gun/Hobby Hill</td>\n",
       "      <td>409</td>\n",
       "      <td>9543 Creek Summit Cir</td>\n",
       "      <td>2017-07-26</td>\n",
       "      <td>539238</td>\n",
       "      <td>NaN</td>\n",
       "      <td>ID2017</td>\n",
       "      <td>15406</td>\n",
       "      <td>LEGAULT HOMES LLC</td>\n",
       "      <td>LEE HANNAH</td>\n",
       "      <td>2.0</td>\n",
       "      <td>2017.0</td>\n",
       "      <td>2487.0</td>\n",
       "    </tr>\n",
       "    <tr>\n",
       "      <th>1</th>\n",
       "      <td>C0010491078</td>\n",
       "      <td>R01</td>\n",
       "      <td>120 Two Story</td>\n",
       "      <td>142.0</td>\n",
       "      <td>Twin Valley/Old Gun/Hobby Hill</td>\n",
       "      <td>409</td>\n",
       "      <td>9547 Creek Summit Cir</td>\n",
       "      <td>2017-09-14</td>\n",
       "      <td>546684</td>\n",
       "      <td>NaN</td>\n",
       "      <td>ID2017</td>\n",
       "      <td>19367</td>\n",
       "      <td>LEGAULT HOMES LLC</td>\n",
       "      <td>SCHEIBER LANE B II AND</td>\n",
       "      <td>2.0</td>\n",
       "      <td>2017.0</td>\n",
       "      <td>2735.0</td>\n",
       "    </tr>\n",
       "    <tr>\n",
       "      <th>2</th>\n",
       "      <td>C0010491115</td>\n",
       "      <td>R01</td>\n",
       "      <td>115 One Story+ (1.25, 1.5, 1.75)</td>\n",
       "      <td>142.0</td>\n",
       "      <td>Twin Valley/Old Gun/Hobby Hill</td>\n",
       "      <td>409</td>\n",
       "      <td>9434 Creek Summit Cir</td>\n",
       "      <td>2017-09-29</td>\n",
       "      <td>375000</td>\n",
       "      <td>NaN</td>\n",
       "      <td>ID2017</td>\n",
       "      <td>20607</td>\n",
       "      <td>SANDS GERALD AND DIANNE</td>\n",
       "      <td>CLINE HUGH A AND DEBORAH P</td>\n",
       "      <td>1.5</td>\n",
       "      <td>2013.0</td>\n",
       "      <td>2236.0</td>\n",
       "    </tr>\n",
       "    <tr>\n",
       "      <th>3</th>\n",
       "      <td>C0010491136</td>\n",
       "      <td>R01</td>\n",
       "      <td>120 Two Story</td>\n",
       "      <td>142.0</td>\n",
       "      <td>Twin Valley/Old Gun/Hobby Hill</td>\n",
       "      <td>409</td>\n",
       "      <td>9466 Creek Summit Cir</td>\n",
       "      <td>2017-04-21</td>\n",
       "      <td>317990</td>\n",
       "      <td>NaN</td>\n",
       "      <td>ID2017</td>\n",
       "      <td>7874</td>\n",
       "      <td>LEGAULT HOMES LLC</td>\n",
       "      <td>EAGER MELISSA M</td>\n",
       "      <td>1.0</td>\n",
       "      <td>2015.0</td>\n",
       "      <td>1942.0</td>\n",
       "    </tr>\n",
       "    <tr>\n",
       "      <th>4</th>\n",
       "      <td>C0010491137</td>\n",
       "      <td>R01</td>\n",
       "      <td>120 Two Story</td>\n",
       "      <td>142.0</td>\n",
       "      <td>Twin Valley/Old Gun/Hobby Hill</td>\n",
       "      <td>409</td>\n",
       "      <td>9468 Creek Summit Cir</td>\n",
       "      <td>2017-06-20</td>\n",
       "      <td>320000</td>\n",
       "      <td>NaN</td>\n",
       "      <td>ID2017</td>\n",
       "      <td>12519</td>\n",
       "      <td>LEGAULT HOMES LLC</td>\n",
       "      <td>MARKEL DEBRA M</td>\n",
       "      <td>1.0</td>\n",
       "      <td>2015.0</td>\n",
       "      <td>1962.0</td>\n",
       "    </tr>\n",
       "  </tbody>\n",
       "</table>\n",
       "</div>"
      ],
      "text/plain": [
       "     Parcel_ID Card                        Class_desc  NBHDno  \\\n",
       "0  C0010491075  R02                     120 Two Story   142.0   \n",
       "1  C0010491078  R01                     120 Two Story   142.0   \n",
       "2  C0010491115  R01  115 One Story+ (1.25, 1.5, 1.75)   142.0   \n",
       "3  C0010491136  R01                     120 Two Story   142.0   \n",
       "4  C0010491137  R01                     120 Two Story   142.0   \n",
       "\n",
       "                         NBHDname  district_number             Prop_stree  \\\n",
       "0  Twin Valley/Old Gun/Hobby Hill              409  9543 Creek Summit Cir   \n",
       "1  Twin Valley/Old Gun/Hobby Hill              409  9547 Creek Summit Cir   \n",
       "2  Twin Valley/Old Gun/Hobby Hill              409  9434 Creek Summit Cir   \n",
       "3  Twin Valley/Old Gun/Hobby Hill              409  9466 Creek Summit Cir   \n",
       "4  Twin Valley/Old Gun/Hobby Hill              409  9468 Creek Summit Cir   \n",
       "\n",
       "  Transfer_date  Consideration  TransferComment Deed_book  Deed_page  \\\n",
       "0    2017-07-26         539238              NaN    ID2017      15406   \n",
       "1    2017-09-14         546684              NaN    ID2017      19367   \n",
       "2    2017-09-29         375000              NaN    ID2017      20607   \n",
       "3    2017-04-21         317990              NaN    ID2017       7874   \n",
       "4    2017-06-20         320000              NaN    ID2017      12519   \n",
       "\n",
       "                   Grantor                     Grantee Story  YrBuilt  FinSize  \n",
       "0        LEGAULT HOMES LLC                  LEE HANNAH   2.0   2017.0   2487.0  \n",
       "1        LEGAULT HOMES LLC      SCHEIBER LANE B II AND   2.0   2017.0   2735.0  \n",
       "2  SANDS GERALD AND DIANNE  CLINE HUGH A AND DEBORAH P   1.5   2013.0   2236.0  \n",
       "3        LEGAULT HOMES LLC             EAGER MELISSA M   1.0   2015.0   1942.0  \n",
       "4        LEGAULT HOMES LLC              MARKEL DEBRA M   1.0   2015.0   1962.0  "
      ]
     },
     "execution_count": 8,
     "metadata": {},
     "output_type": "execute_result"
    }
   ],
   "source": [
    "f.head()\n",
    "#type(f)  # pandas.core.frame.DataFrame"
   ]
  },
  {
   "cell_type": "code",
   "execution_count": 14,
   "metadata": {
    "collapsed": false
   },
   "outputs": [
    {
     "name": "stdout",
     "output_type": "stream",
     "text": [
      "<class 'pandas.core.frame.DataFrame'>\n",
      "RangeIndex: 9874 entries, 0 to 9873\n",
      "Data columns (total 17 columns):\n",
      "Parcel_ID          9874 non-null object\n",
      "Card               9610 non-null object\n",
      "Class_desc         9873 non-null object\n",
      "NBHDno             9872 non-null float64\n",
      "NBHDname           9872 non-null object\n",
      "district_number    9874 non-null int64\n",
      "Prop_stree         9874 non-null object\n",
      "Transfer_date      9874 non-null datetime64[ns]\n",
      "Consideration      9874 non-null int64\n",
      "TransferComment    0 non-null float64\n",
      "Deed_book          9874 non-null object\n",
      "Deed_page          9874 non-null int64\n",
      "Grantor            9874 non-null object\n",
      "Grantee            9874 non-null object\n",
      "Story              9559 non-null object\n",
      "YrBuilt            9609 non-null float64\n",
      "FinSize            9558 non-null float64\n",
      "dtypes: datetime64[ns](1), float64(4), int64(3), object(9)\n",
      "memory usage: 1.3+ MB\n"
     ]
    }
   ],
   "source": [
    "f.info()"
   ]
  },
  {
   "cell_type": "code",
   "execution_count": null,
   "metadata": {
    "collapsed": true
   },
   "outputs": [],
   "source": []
  }
 ],
 "metadata": {
  "kernelspec": {
   "display_name": "Python 3",
   "language": "python",
   "name": "python3"
  },
  "language_info": {
   "codemirror_mode": {
    "name": "ipython",
    "version": 3
   },
   "file_extension": ".py",
   "mimetype": "text/x-python",
   "name": "python",
   "nbconvert_exporter": "python",
   "pygments_lexer": "ipython3",
   "version": "3.6.0"
  }
 },
 "nbformat": 4,
 "nbformat_minor": 2
}
